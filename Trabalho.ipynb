{
  "nbformat": 4,
  "nbformat_minor": 0,
  "metadata": {
    "colab": {
      "provenance": [],
      "authorship_tag": "ABX9TyMwAXdlCd26Eau9IachEZvk",
      "include_colab_link": true
    },
    "kernelspec": {
      "name": "python3",
      "display_name": "Python 3"
    },
    "language_info": {
      "name": "python"
    }
  },
  "cells": [
    {
      "cell_type": "markdown",
      "metadata": {
        "id": "view-in-github",
        "colab_type": "text"
      },
      "source": [
        "<a href=\"https://colab.research.google.com/github/daniellegaspar/Python/blob/main/Trabalho.ipynb\" target=\"_parent\"><img src=\"https://colab.research.google.com/assets/colab-badge.svg\" alt=\"Open In Colab\"/></a>"
      ]
    },
    {
      "cell_type": "code",
      "execution_count": 25,
      "metadata": {
        "colab": {
          "base_uri": "https://localhost:8080/"
        },
        "id": "dwGtnMAsQmxS",
        "outputId": "b6881bc6-1c59-4ec4-b61d-426b913fa4c8"
      },
      "outputs": [
        {
          "output_type": "stream",
          "name": "stdout",
          "text": [
            "Digite Seu Nome: çl\n",
            "Seja Bem Vindo(a) a loja Danielle Gaspar çl\n",
            "Digite o Valor do Produto: R$5000\n",
            "Digite a Quantidade de Itens Desse Produto: 2\n",
            "Valor Total Desse Produto Sem Desconto é de: R$ 10000.00\n",
            "O Valor Total Desse Produto Com Desconto é de: R$ 9200.00\n",
            "Você Está Economizando R$800.00 Reais Nesse Produto.\n"
          ]
        }
      ],
      "source": [
        "nome = str(input(\"Digite Seu Nome: \"))\n",
        "print(\"Seja Bem Vindo(a) a loja Danielle Gaspar \" + nome) # mensagem de boas-vindas para cliente\n",
        "valor_produto = float(input(\"Digite o Valor do Produto: R$\"))\n",
        "quantidade = int(input(\"Digite a Quantidade de Itens Desse Produto: \"))\n",
        "desconto_produto = 0\n",
        "\n",
        "if valor_produto < 1000:\n",
        "  desconto_produto = 0.00\n",
        "elif valor_produto >= 1000 and valor_produto <= 3000:\n",
        "  desconto_produto = 0.03\n",
        "elif valor_produto >= 3000 and valor_produto < 5000:\n",
        "  desconto_produto = 0.05\n",
        "else:\n",
        "  desconto_produto = 0.08\n",
        "\n",
        "t_sem_desconto = valor_produto * quantidade # calcula o valor do produto sem desconto\n",
        "print(\"Valor Total Desse Produto Sem Desconto é de: R$ {:.2f}.\".format(t_sem_desconto))\n",
        "\n",
        "t_COM_desconto = t_sem_desconto - t_sem_desconto * desconto_produto # calcula o valor do produto com desconto\n",
        "print(\"O Valor Total Desse Produto Com Desconto é de: R$ {:.2f}.\".format(t_COM_desconto))\n",
        "\n",
        "valor_desconto = t_sem_desconto - t_COM_desconto # calcular apenas o valor do desconto\n",
        "print(\"Você Está Economizando R${:.2f} Reais \".format(valor_desconto) + \"Nesse Produto.\")\n",
        "\n",
        "\n"
      ]
    },
    {
      "cell_type": "code",
      "source": [],
      "metadata": {
        "id": "VfBvstjeTUod"
      },
      "execution_count": null,
      "outputs": []
    }
  ]
}